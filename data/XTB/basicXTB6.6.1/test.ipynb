{
 "cells": [
  {
   "cell_type": "code",
   "execution_count": 1,
   "metadata": {},
   "outputs": [],
   "source": [
    "from cclib.io import ccread"
   ]
  },
  {
   "cell_type": "code",
   "execution_count": 2,
   "metadata": {},
   "outputs": [],
   "source": [
    "c = ccread([\"water_ohess.out\"])\n",
    "# c = ccread([\"Cu_PBC_gfn1_opt.out\"])\n"
   ]
  },
  {
   "cell_type": "code",
   "execution_count": 3,
   "metadata": {},
   "outputs": [
    {
     "data": {
      "text/plain": [
       "{'package': 'xTB',\n",
       " 'methods': ['GFN2-xTB'],\n",
       " 'success': True,\n",
       " 'package_version': '6.6.1',\n",
       " 'keywords': ['xtb', 'coord.xyz', '--ohess'],\n",
       " 'coord_type': 'xyz',\n",
       " 'symmetry_detected': 'c2v',\n",
       " 'symmetry_used': 'c2v',\n",
       " 'wall_time': [datetime.timedelta(microseconds=11000)],\n",
       " 'cpu_time': [datetime.timedelta(microseconds=222000)]}"
      ]
     },
     "execution_count": 3,
     "metadata": {},
     "output_type": "execute_result"
    }
   ],
   "source": [
    "c.metadata"
   ]
  },
  {
   "cell_type": "code",
   "execution_count": 4,
   "metadata": {},
   "outputs": [
    {
     "data": {
      "text/plain": [
       "{'atomcharges': {'mulliken': array([-0.565,  0.282,  0.282])},\n",
       " 'atomcoords': array([[ 1.07015391, -0.01769828,  0.04981203],\n",
       "        [ 2.02952514, -0.0081378 ,  0.03338237],\n",
       "        [ 0.76845094,  0.44031609, -0.73728441]]),\n",
       " 'atomnos': array([8, 1, 1], dtype=int32),\n",
       " 'charge': 0,\n",
       " 'coreelectrons': array([0, 0, 0], dtype=int32),\n",
       " 'enthalpy': -137.32635028640334,\n",
       " 'freeenergy': -137.9086725094949,\n",
       " 'homos': array([0, 1, 2, 3]),\n",
       " 'metadata': {'package': 'xTB',\n",
       "  'methods': ['GFN2-xTB'],\n",
       "  'success': True,\n",
       "  'package_version': '6.6.1',\n",
       "  'keywords': ['xtb', 'coord.xyz', '--ohess'],\n",
       "  'coord_type': 'xyz',\n",
       "  'symmetry_detected': 'c2v',\n",
       "  'symmetry_used': 'c2v',\n",
       "  'wall_time': [datetime.timedelta(microseconds=11000)],\n",
       "  'cpu_time': [datetime.timedelta(microseconds=222000)]},\n",
       " 'moenergies': [array([-18.5055, -15.4632, -13.9025, -12.1468,   2.2345,   6.8277])],\n",
       " 'natom': 3,\n",
       " 'scfenergies': array([-137.976534]),\n",
       " 'vibfreqs': array([  -0.  ,   -0.  ,   -0.  ,   -0.  ,    0.  ,    0.  , 1540.46,\n",
       "        3639.49, 3648.56]),\n",
       " 'vibrmasses': array([ 1.38,  1.55, 10.15, 10.79, 14.49,  9.86,  2.15,  1.57,  2.11]),\n",
       " 'zpve': 0.5472975641529129}"
      ]
     },
     "execution_count": 4,
     "metadata": {},
     "output_type": "execute_result"
    }
   ],
   "source": [
    "c.getattributes()"
   ]
  },
  {
   "cell_type": "code",
   "execution_count": null,
   "metadata": {},
   "outputs": [],
   "source": []
  }
 ],
 "metadata": {
  "kernelspec": {
   "display_name": "cclib",
   "language": "python",
   "name": "python3"
  },
  "language_info": {
   "codemirror_mode": {
    "name": "ipython",
    "version": 3
   },
   "file_extension": ".py",
   "mimetype": "text/x-python",
   "name": "python",
   "nbconvert_exporter": "python",
   "pygments_lexer": "ipython3",
   "version": "3.10.13"
  }
 },
 "nbformat": 4,
 "nbformat_minor": 2
}
